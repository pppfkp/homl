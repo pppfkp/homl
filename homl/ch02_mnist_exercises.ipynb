{
 "cells": [
  {
   "cell_type": "markdown",
   "id": "396a1438-ed26-4f2c-b7b5-1f558cae7784",
   "metadata": {},
   "source": [
    "# Exercise 1\n",
    "Try to build a classifier for the MNIST dataset that achieves over 97% accuracy\n",
    "on the test set. Hint: the KNeighborsClassifier works quite well for this task;\n",
    "you just need to find good hyperparameter values (try a grid search on the\n",
    "weights and n_neighbors hyperparameters)."
   ]
  },
  {
   "cell_type": "code",
   "execution_count": 14,
   "id": "63404ef7-fc3f-4426-8e13-ad54f7afbc27",
   "metadata": {},
   "outputs": [
    {
     "data": {
      "text/plain": [
       "0.9714"
      ]
     },
     "execution_count": 14,
     "metadata": {},
     "output_type": "execute_result"
    }
   ],
   "source": [
    "from sklearn.datasets import fetch_openml\n",
    "\n",
    "mnist = fetch_openml('mnist_784', as_frame=False)\n",
    "\n",
    "X, y = mnist.data, mnist.target\n",
    "\n",
    "X_train, X_test, y_train, y_test = X[:60000], X[60000:], y[:60000], y[60000:] #dataset is already splitted at 60000 index\n",
    "len(X_train), len(y_train), len(X_test), len(y_test), X_train.shape\n",
    "\n",
    "from sklearn.neighbors import KNeighborsClassifier\n",
    "from sklearn.model_selection import cross_val_score\n",
    "\n",
    "knn_clf = KNeighborsClassifier(n_jobs=-1)\n",
    "\n",
    "# base_score = cross_val_score(knn_clf, X_train, y_train, n_jobs=-1, scoring=\"accuracy\")\n",
    "\n",
    "# from sklearn.model_selection import GridSearchCV\n",
    "\n",
    "# grid_params = [{\n",
    "#     \"n_neighbors\": [2,3,4,5,6,7,8,9,10,50,100,200,1000,2000,4000,6000],\n",
    "#     \"weights\": [\"uniform\", \"distance\"]\n",
    "# }]\n",
    "\n",
    "# knn_clf_grid_search = GridSearchCV(knn_clf, grid_params, n_jobs=5, cv=3, scoring=\"accuracy\")\n",
    "# knn_clf_grid_search.fit(X_train, y_train)\n",
    "\n",
    "# knn_clf_grid_search.best_params_\n",
    "# knn_clf = knn_clf_grid_search.best_estimator_\n",
    "\n",
    "knn_clf = KNeighborsClassifier(n_neighbors=4, weights=\"distance\")\n",
    "\n",
    "knn_clf.fit(X_train, y_train)\n",
    "\n",
    "cross_val_score(knn_clf, X_train, y_train, n_jobs=-1, scoring=\"accuracy\", cv=5)\n",
    "\n",
    "from sklearn.metrics import accuracy_score\n",
    "\n",
    "y_preds = knn_clf.predict(X_test)\n",
    "accuracy_score(y_test, y_preds)"
   ]
  },
  {
   "cell_type": "markdown",
   "id": "4dfbdeff-e54e-47b4-a0b5-16ea11287bc6",
   "metadata": {},
   "source": [
    "# Exercise 2\n",
    "Write a function that can shift an MNIST image in any direction (left, right, up,\n",
    "or down) by one pixel.6\n",
    " Then, for each image in the training set, create four\n",
    "shifted copies (one per direction) and add them to the training set. Finally, train\n",
    "your best model on this expanded training set and measure its accuracy on the\n",
    "test set. You should observe that your model performs even better now! This\n",
    "technique of artificially growing the training set is called data augmentation or\n",
    "training set expansion."
   ]
  },
  {
   "cell_type": "code",
   "execution_count": 31,
   "id": "75ff95ca-4ed7-44a0-aa13-7ae173b4625a",
   "metadata": {},
   "outputs": [
    {
     "data": {
      "text/plain": [
       "<matplotlib.image.AxesImage at 0x7940b6515cd0>"
      ]
     },
     "execution_count": 31,
     "metadata": {},
     "output_type": "execute_result"
    },
    {
     "data": {
      "image/png": "[encoded data removed]",
      "text/plain": [
       "<Figure size 640x480 with 1 Axes>"
      ]
     },
     "metadata": {},
     "output_type": "display_data"
    }
   ],
   "source": [
    "from scipy.ndimage._interpolation import shift\n",
    "from matplotlib import pyplot as plt\n",
    "\n",
    "def shift_image_one_pixel(image, direction):\n",
    "    y, x = 0, 0 \n",
    "    match direction:\n",
    "        case \"left\":\n",
    "            y, x = -1, 0\n",
    "        case \"right\":\n",
    "            y, x = 1, 0\n",
    "        case \"top\":\n",
    "            y, x = 0, 1\n",
    "        case \"down\":\n",
    "            y, x = 0, -1\n",
    "\n",
    "    return shift(image, (x, y))\n",
    "\n",
    "plt.imshow(shift_image_one_pixel(X_train[0].reshape(28,28), \"left\"), cmap=\"binary\")"
   ]
  },
  {
   "cell_type": "code",
   "execution_count": null,
   "id": "cc9a9c43-f4ef-44a9-ad64-fe87afc6bb77",
   "metadata": {},
   "outputs": [],
   "source": [
    "import numpy as np\n",
    "\n",
    "X_train_aug = X_train.copy()\n",
    "y_train_aug = y_train.copy()\n",
    "\n",
    "for idx, elem in enumerate(X_train):\n",
    "    for direction in (\"left\", \"right\", \"top\", \"down\"):\n",
    "        shifted_image =shift_image_one_pixel(elem.reshape(28,28), direction).reshape(784)\n",
    "        X_train_aug = np.vstack((X_train_aug, shifted_image))\n",
    "        y_train_aug = np.append(y_train_aug, y_train[idx])"
   ]
  },
  {
   "cell_type": "code",
   "execution_count": null,
   "id": "11fd43d0-0340-4fd8-b5f1-8925caa89645",
   "metadata": {},
   "outputs": [],
   "source": [
    "import numpy as np\n",
    "\n",
    "X_train_aug = X_train.copy()\n",
    "y_train_aug = y_train.copy()\n",
    "\n",
    "for idx, elem in enumerate(X_train):\n",
    "    for direction in (\"left\", \"right\", \"top\", \"down\"):\n",
    "        shifted_image =shift_image_one_pixel(elem.reshape(28,28), direction).reshape(784)\n",
    "        X_train_aug = np.vstack((X_train_aug, shifted_image))\n",
    "        y_train_aug = np.append(y_train_aug, y_train[idx])"
   ]
  },
  {
   "cell_type": "code",
   "execution_count": null,
   "id": "c9702833-4b0a-4f74-87db-ce407363361e",
   "metadata": {},
   "outputs": [],
   "source": [
    "len(X_train_aug), len(y_train_aug), len(X_train)"
   ]
  },
  {
   "cell_type": "code",
   "execution_count": 40,
   "id": "687eb465-4e39-4371-b340-22918f8f6e97",
   "metadata": {},
   "outputs": [],
   "source": [
    "import numpy as np\n",
    "from multiprocessing import Pool\n",
    "\n",
    "def shift_and_augment(args):\n",
    "    idx, elem, y = args\n",
    "    augmented_samples = []\n",
    "    for direction in (\"left\", \"right\", \"top\", \"down\"):\n",
    "        shifted_image = shift_image_one_pixel(elem.reshape(28, 28), direction).reshape(784)\n",
    "        augmented_samples.append((shifted_image, y))\n",
    "    return augmented_samples\n",
    "\n",
    "# Define the number of processes you want to run in parallel\n",
    "num_processes = 4  # Adjust this according to your system's capabilities\n",
    "\n",
    "# Create a pool of processes\n",
    "pool = Pool(num_processes)\n",
    "\n",
    "# Prepare arguments for parallel processing\n",
    "args = [(idx, elem, y) for idx, (elem, y) in enumerate(zip(X_train, y_train))]\n",
    "\n",
    "# Map the function to be parallelized to the arguments\n",
    "augmented_results = pool.map(shift_and_augment, args)\n",
    "\n",
    "# Close the pool to release resources\n",
    "pool.close()\n",
    "pool.join()\n",
    "\n",
    "# Unpack the results into X_train_aug and y_train_aug\n",
    "X_train_aug = np.vstack([sample[0] for result in augmented_results for sample in result])\n",
    "y_train_aug = np.hstack([sample[1] for result in augmented_results for sample in result])\n"
   ]
  },
  {
   "cell_type": "code",
   "execution_count": 44,
   "id": "651d2b27-ffb0-4f06-8aae-2a8a11d2318f",
   "metadata": {},
   "outputs": [
    {
     "data": {
      "text/plain": [
       "240000"
      ]
     },
     "execution_count": 44,
     "metadata": {},
     "output_type": "execute_result"
    }
   ],
   "source": [
    "len(X_train_aug), len(y_train_aug)"
   ]
  },
  {
   "cell_type": "code",
   "execution_count": 45,
   "id": "10c563c0-7cfa-425e-9913-ab0a4a68130a",
   "metadata": {},
   "outputs": [
    {
     "data": {
      "text/plain": [
       "0.9743"
      ]
     },
     "execution_count": 45,
     "metadata": {},
     "output_type": "execute_result"
    }
   ],
   "source": [
    "knn_clf.fit(X_train_aug, y_train_aug)\n",
    "\n",
    "cross_val_score(knn_clf, X_train, y_train, n_jobs=-1, scoring=\"accuracy\", cv=5)\n",
    "\n",
    "from sklearn.metrics import accuracy_score\n",
    "\n",
    "y_preds = knn_clf.predict(X_test)\n",
    "accuracy_score(y_test, y_preds)"
   ]
  }
 ],
 "metadata": {
  "kernelspec": {
   "display_name": "Python 3 (ipykernel)",
   "language": "python",
   "name": "python3"
  },
  "language_info": {
   "codemirror_mode": {
    "name": "ipython",
    "version": 3
   },
   "file_extension": ".py",
   "mimetype": "text/x-python",
   "name": "python",
   "nbconvert_exporter": "python",
   "pygments_lexer": "ipython3",
   "version": "3.11.0rc1"
  }
 },
 "nbformat": 4,
 "nbformat_minor": 5
}
