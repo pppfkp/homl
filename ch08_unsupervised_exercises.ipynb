{
 "cells": [
  {
   "cell_type": "markdown",
   "id": "cdcea69f-2020-45ab-bfa4-efa7440d4eed",
   "metadata": {},
   "source": [
    "# Exercise 1\n",
    "How would you define clustering? Can you name a few clustering algorithms?"
   ]
  },
  {
   "cell_type": "markdown",
   "id": "088eafce-26b4-46ec-a14d-0efd415da63d",
   "metadata": {},
   "source": [
    "# Exercise 2\n",
    "What are some of the main applications of clustering algorithms?\n"
   ]
  },
  {
   "cell_type": "markdown",
   "id": "9b80e234-b543-486e-99b7-d2ac81097673",
   "metadata": {},
   "source": [
    "# Exercise 3\n",
    "Describe two techniques to select the right number of clusters when using\n",
    "k-means."
   ]
  },
  {
   "cell_type": "markdown",
   "id": "0ac65f31-cd85-46ee-8b94-dc3787723d51",
   "metadata": {},
   "source": [
    "# Exercise 4\n",
    "What is label propagation? Why would you implement it, and how?"
   ]
  },
  {
   "cell_type": "markdown",
   "id": "e84454af-1b0e-4f83-b044-20759df12721",
   "metadata": {},
   "source": [
    "# Exercise 5\n",
    "Can you name two clustering algorithms that can scale to large datasets? And two\n",
    "that look for regions of high density?\n"
   ]
  },
  {
   "cell_type": "markdown",
   "id": "cd4ffd92-7a84-437c-9366-997567ded54d",
   "metadata": {},
   "source": [
    "# Exercise 6\n",
    "Can you think of a use case where active learning would be useful? How would\n",
    "you implement it?"
   ]
  },
  {
   "cell_type": "markdown",
   "id": "c4496057-2a15-4658-9524-983c400977a7",
   "metadata": {},
   "source": [
    "# Exercise 7\n",
    "What is the difference between anomaly detection and novelty detection?"
   ]
  },
  {
   "cell_type": "markdown",
   "id": "4491eaf0-a24a-49a4-887e-d97a8be47ce6",
   "metadata": {},
   "source": [
    "# Exercise 8\n",
    "What is a Gaussian mixture? What tasks can you use it for?"
   ]
  },
  {
   "cell_type": "markdown",
   "id": "aab6d66a-104c-4166-aba7-2c846e62253d",
   "metadata": {},
   "source": [
    "# Exercise 9\n",
    "Can you name two techniques to find the right number of clusters when using a\n",
    "Gaussian mixture model?\n"
   ]
  },
  {
   "cell_type": "markdown",
   "id": "3c027289-f31b-4ed3-b1ab-49f74bc6976e",
   "metadata": {},
   "source": [
    "# Exercise 10\n",
    "The classic Olivetti faces dataset contains 400 grayscale 64 × 64–pixel images of\n",
    "faces. Each image is flattened to a 1D vector of size 4,096. Forty different people\n",
    "were photographed (10 times each), and the usual task is to train a model that\n",
    "can predict which person is represented in each picture. Load the dataset using\n",
    "the sklearn.datasets.fetch_olivetti_faces() function, then split it into a\n",
    "training set, a validation set, and a test set (note that the dataset is already scaled\n",
    "between 0 and 1). Since the dataset is quite small, you will probably want to\n",
    "use stratified sampling to ensure that there are the same number of images per\n",
    "person in each set. Next, cluster the images using k-means, and ensure that you\n",
    "have a good number of clusters (using one of the techniques discussed in this\n",
    "chapter). Visualize the clusters: do you see similar faces in each cluster?"
   ]
  },
  {
   "cell_type": "markdown",
   "id": "b009a40a-19d8-4372-9fc7-30976f5bacd6",
   "metadata": {},
   "source": [
    "# Exercise 11\n",
    "Continuing with the Olivetti faces dataset, train a classifier to predict which\n",
    "person is represented in each picture, and evaluate it on the validation set. Next,\n",
    "use k-means as a dimensionality reduction tool, and train a classifier on the\n",
    "reduced set. Search for the number of clusters that allows the classifier to get\n",
    "the best performance: what performance can you reach? What if you append the\n",
    "features from the reduced set to the original features (again, searching for the\n",
    "best number of clusters)?\n"
   ]
  },
  {
   "cell_type": "markdown",
   "id": "610655e4-c51c-4ef2-9477-d383d532f7e5",
   "metadata": {},
   "source": [
    "# Exercise 12\n",
    "Train a Gaussian mixture model on the Olivetti faces dataset. To speed up the\n",
    "algorithm, you should probably reduce the dataset’s dimensionality (e.g., use\n",
    "PCA, preserving 99% of the variance). Use the model to generate some new\n",
    "faces (using the sample() method), and visualize them (if you used PCA, you\n",
    "will need to use its inverse_transform() method). Try to modify some images\n",
    "(e.g., rotate, flip, darken) and see if the model can detect the anomalies (i.e.,\n",
    "compare the output of the score_samples() method for normal images and for\n",
    "anomalies).\n"
   ]
  },
  {
   "cell_type": "markdown",
   "id": "24da31f3-77ea-4055-93a8-479217470eef",
   "metadata": {},
   "source": [
    "# Ecercise 13\n",
    "Some dimensionality reduction techniques can also be used for anomaly detec‐\n",
    "tion. For example, take the Olivetti faces dataset and reduce it with PCA, preserv‐\n",
    "ing 99% of the variance. Then compute the reconstruction error for each image.\n",
    "Next, take some of the modified images you built in the previous exercise and\n",
    "look at their reconstruction error: notice how much larger it is. If you plot a\n",
    "reconstructed image, you will see why: it tries to reconstruct a normal face."
   ]
  }
 ],
 "metadata": {
  "kernelspec": {
   "display_name": "Python 3 (ipykernel)",
   "language": "python",
   "name": "python3"
  },
  "language_info": {
   "codemirror_mode": {
    "name": "ipython",
    "version": 3
   },
   "file_extension": ".py",
   "mimetype": "text/x-python",
   "name": "python",
   "nbconvert_exporter": "python",
   "pygments_lexer": "ipython3",
   "version": "3.11.0rc1"
  }
 },
 "nbformat": 4,
 "nbformat_minor": 5
}
